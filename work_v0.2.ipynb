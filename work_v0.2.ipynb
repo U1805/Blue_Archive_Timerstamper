{
 "cells": [
  {
   "cell_type": "code",
   "execution_count": 1,
   "metadata": {},
   "outputs": [],
   "source": [
    "import os\n",
    "import pysubs2\n",
    "import re\n",
    "import cv2\n",
    "import threading"
   ]
  },
  {
   "cell_type": "code",
   "execution_count": 2,
   "metadata": {},
   "outputs": [],
   "source": [
    "def Inpainting(srcImg,x,y,xx,yy,style=\"文本\",kernelSize=7,iter=1,r=3):\n",
    "    src = srcImg[x:xx,y:yy].copy()\n",
    "    gray = cv2.cvtColor(src, cv2.COLOR_BGR2GRAY,1)\n",
    "    if style == \"学生\" or style == \"文本\": #白字\n",
    "        thresh = cv2.threshold(gray, 180, 255, cv2.THRESH_BINARY)[1]\n",
    "    else:\n",
    "        thresh = cv2.threshold(gray, 0, 255, cv2.THRESH_BINARY_INV | cv2.THRESH_OTSU)[1]\n",
    "    kernel = cv2.getStructuringElement(cv2.MORPH_RECT, (kernelSize, kernelSize))\n",
    "    maskImg = cv2.dilate(thresh, kernel,iterations=iter)\n",
    "    inpaintImg = cv2.inpaint(src,maskImg,r,cv2.INPAINT_NS)\n",
    "    srcImg[x:xx,y:yy] = inpaintImg"
   ]
  },
  {
   "cell_type": "code",
   "execution_count": 6,
   "metadata": {},
   "outputs": [],
   "source": [
    "# 多线程-任务\n",
    "def work(start):\n",
    "    video_path = os.path.join(\"./temp/\", \"part_\"+str(start)+\".mp4\")\n",
    "    cap = cv2.VideoCapture(video_path)\n",
    "    fps = cap.get(cv2.CAP_PROP_FPS)\n",
    "    fourcc = cv2.VideoWriter_fourcc(*'mp4v')\n",
    "    width = int(cap.get(3))\n",
    "    height = int(cap.get(4))\n",
    "    out = cv2.VideoWriter(\"./temp/part_\"+str(start)+\"_out.mp4\",fourcc,fps,(width,height))\n",
    "    print(\"start \"+str(start))\n",
    "\n",
    "    for i in range(start*num,(start+1)*num):\n",
    "        ret, img = cap.read()\n",
    "        if ret:\n",
    "            for style in frame[i]:\n",
    "                y1 ,x1 ,y2 ,x2= axis[style][0], axis[style][1], axis[style][2], axis[style][3]\n",
    "                Inpainting(img,x1,y1,x2,y2,style,kernelSize=9,iter=1,r=4)\n",
    "            out.write(img)\n",
    "            # img = cv2.resize(img, (0, 0),fx = 0.5,fy = 0.5)\n",
    "            # cv2.imshow('img',img)\n",
    "        else:\n",
    "            print(\"Error\")\n",
    "            break\n",
    "        if cv2.waitKey(1) & 0xFF==27:\n",
    "            break\n",
    "    cap.release()\n",
    "    out.release()\n",
    "    # cv2.destroyAllWindows()"
   ]
  },
  {
   "cell_type": "code",
   "execution_count": 3,
   "metadata": {},
   "outputs": [],
   "source": [
    "axis = {}\n",
    "with open(\"config.txt\", \"r\",encoding='utf-8') as f:\n",
    "    for line in f.readlines():\n",
    "        line = line.strip('\\n')\n",
    "        line = line.split(':')\n",
    "        style = line[0]\n",
    "        axis[style] = list(map(int,list(line[1].split(','))))"
   ]
  },
  {
   "cell_type": "code",
   "execution_count": 4,
   "metadata": {},
   "outputs": [],
   "source": [
    "filename = \"小夏4\"\n",
    "path = sys.path[0]+\"\\\\temp\\\\\"\n",
    "cap = cv2.VideoCapture(\"小夏4.mp4\")\n",
    "length = int(cap.get(cv2.CAP_PROP_FRAME_COUNT))\n",
    "fps = cap.get(cv2.CAP_PROP_FPS)\n",
    "fourcc = cv2.VideoWriter_fourcc(*'mp4v')\n",
    "width = int(cap.get(3))\n",
    "height = int(cap.get(4))\n",
    "frame = []\n",
    "for i in range(length):\n",
    "    frame.append([])\n",
    "if not os.path.exists(path):\n",
    "    os.makedirs(path)\n",
    "\n",
    "#filename_out.ass\n",
    "subs = pysubs2.load(filename+\".ass\")\n",
    "for sub in subs:\n",
    "    start = pysubs2.time.ms_to_frames(sub.start, fps)\n",
    "    end = pysubs2.time.ms_to_frames(sub.end, fps)\n",
    "\n",
    "    if sub.style == \"文本\":\n",
    "        name_school = sub.text.split(\"：\")[0]\n",
    "        text = sub.text.split(\"：\")[-1]\n",
    "\n",
    "        if name_school != text:\n",
    "            name = name_school.split('（')[0]\n",
    "            school = name_school.split('（')[-1].replace(\"）\",\"\")\n",
    "            subs.insert(0, pysubs2.SSAEvent(start=sub.start, end=sub.end, text=name+\" {\\\\fs35 \\c&H f4ca80 }\"+school, style=\"学生\"))\n",
    "\n",
    "        if len(text) > 35: # 换行\n",
    "            text = \"\\\\N\".join(re.findall(\".{35}\",text)) \n",
    "        sub.text = text\n",
    "\n",
    "        for i in range(start,end):\n",
    "            frame[i].append(\"学生\")\n",
    "            frame[i].append(\"文本\")\n",
    "\n",
    "    else:\n",
    "        for i in range(start,end):\n",
    "            frame[i].append(sub.style)\n",
    "subs.save(path + filename + \"_out.ass\")"
   ]
  },
  {
   "cell_type": "code",
   "execution_count": null,
   "metadata": {},
   "outputs": [],
   "source": [
    "# 多线程-切分\n",
    "num = 1000\n",
    "i = -1\n",
    "\n",
    "with open(path + \"list.txt\",\"a\") as f:\n",
    "    while 1:\n",
    "        i += 1\n",
    "        ret, img = cap.read()\n",
    "        if ret:\n",
    "            if i % num == 0:\n",
    "                out = cv2.VideoWriter(path + \"part_\" + str(int(i/num)) + \".mp4\",fourcc,fps,(width,height))\n",
    "                f.write(f\"file ./temp/part_{id}_out.mp4\\n\".format(id=int(i/num)))\n",
    "            out.write(img)\n",
    "            # img = cv2.resize(img, (0, 0),fx = 0.5,fy = 0.5)\n",
    "            # cv2.imshow('img',img)\n",
    "            #print(i)\n",
    "        else:\n",
    "            break\n",
    "        if cv2.waitKey(1) & 0xFF==27:\n",
    "            break\n",
    "    cap.release()\n",
    "    out.release()\n",
    "    # cv2.destroyAllWindows()"
   ]
  },
  {
   "cell_type": "code",
   "execution_count": 7,
   "metadata": {},
   "outputs": [
    {
     "name": "stdout",
     "output_type": "stream",
     "text": [
      "start 0\n",
      "start 1\n",
      "start 6\n",
      "start 5start 3\n",
      "start 7\n",
      "start 2start 4\n",
      "\n",
      "\n",
      "Error\n"
     ]
    }
   ],
   "source": [
    "thread_list = []\n",
    "\n",
    "for i in range(0,8):\n",
    "\n",
    "    thread = threading.Thread(target=work, args=[i])\n",
    "    thread.start()\n",
    "    thread_list.append(thread)\n",
    "\n",
    "for t in thread_list:\n",
    "\n",
    "    t.join()\n"
   ]
  },
  {
   "cell_type": "code",
   "execution_count": 8,
   "metadata": {},
   "outputs": [
    {
     "data": {
      "text/plain": [
       "0"
      ]
     },
     "execution_count": 8,
     "metadata": {},
     "output_type": "execute_result"
    }
   ],
   "source": [
    "os.system(\"ffmpeg -f concat -safe 0 -i {path}list.txt -c copy {path}concat.mp4\".format(path=path))\n",
    "os.system(\"ffmpeg -i {path}concat.mp4 -i {filename}.mp4  -c copy -map 0 -map 1:1 -y -shortest {path}{filename}_out.mp4\".format(path=path,filename=\"小夏4\"))\n",
    "os.system(\"ffmpeg -i {path}{filename}_out.mp4 -vf subtitles=temp/{filename}_out.ass {filename}_final.mp4\".format(path=path,filename=\"小夏4\"))\n",
    "#os.system(\"rd/s/q \"+path)"
   ]
  },
  {
   "cell_type": "code",
   "execution_count": 36,
   "metadata": {},
   "outputs": [
    {
     "data": {
      "text/plain": [
       "'d:\\\\Desktop\\\\code'"
      ]
     },
     "execution_count": 36,
     "metadata": {},
     "output_type": "execute_result"
    }
   ],
   "source": [
    "sys.path[0]"
   ]
  },
  {
   "cell_type": "code",
   "execution_count": 6,
   "metadata": {},
   "outputs": [
    {
     "data": {
      "text/plain": [
       "0"
      ]
     },
     "execution_count": 6,
     "metadata": {},
     "output_type": "execute_result"
    }
   ],
   "source": [
    "# 音频\n",
    "os.system(\"ffmpeg -i {filename}_temp.mp4 -i {filename}.mp4  -c copy -map 0 -map 1:1 -y -shortest {filename}_out.mp4\".format(filename=\"小夏4\"))\n",
    "os.system(\"del {filename}_temp.mp4\".format(filename=\"小夏4\"))"
   ]
  },
  {
   "cell_type": "code",
   "execution_count": 9,
   "metadata": {},
   "outputs": [
    {
     "data": {
      "text/plain": [
       "1"
      ]
     },
     "execution_count": 9,
     "metadata": {},
     "output_type": "execute_result"
    }
   ],
   "source": [
    "# 字幕https://zhuanlan.zhihu.com/p/161000532\n",
    "os.system(\"ffmpeg -i {path}{filename}_out.mp4 -vf subtitles=temp/{filename}_out.ass {filename}_final.mp4\".format(path=path,filename=\"小夏4\"))\n",
    "os.system(\"del {filename}_out.mp4\".format(filename=\"小夏4\"))\n",
    "os.system(\"del {filename}_out.ass\".format(filename=\"小夏4\"))"
   ]
  },
  {
   "cell_type": "code",
   "execution_count": null,
   "metadata": {},
   "outputs": [],
   "source": [
    "# 换行\n",
    "subs = pysubs2.load(\"小夏4.ass\")\n",
    "print(subs[18].text)\n",
    "text = \"\\\\N\".join(re.findall(\".{35}\",subs[18].text))\n",
    "print(text)"
   ]
  },
  {
   "cell_type": "code",
   "execution_count": 23,
   "metadata": {},
   "outputs": [
    {
     "name": "stdout",
     "output_type": "stream",
     "text": [
      "start 1\n"
     ]
    }
   ],
   "source": [
    "work(1)"
   ]
  },
  {
   "cell_type": "code",
   "execution_count": 25,
   "metadata": {},
   "outputs": [
    {
     "name": "stdout",
     "output_type": "stream",
     "text": [
      "start 3\n",
      "start 2\n"
     ]
    }
   ],
   "source": [
    "thread2 = threading.Thread(target=work,args = [2])\n",
    "thread3 = threading.Thread(target=work,args = [3])\n",
    "\n",
    "thread3.start()\n",
    "thread2.start()\n",
    "\n",
    "thread3.join()\n",
    "thread2.join()\n"
   ]
  },
  {
   "cell_type": "code",
   "execution_count": 26,
   "metadata": {},
   "outputs": [
    {
     "name": "stdout",
     "output_type": "stream",
     "text": [
      "start 0\n",
      "start 7\n",
      "start 5start 3start 4\n",
      "start 6\n",
      "start 2\n",
      "\n",
      "\n",
      "start 1\n",
      "Error\n"
     ]
    }
   ],
   "source": [
    "thread0 = threading.Thread(target=work,args = [0])\n",
    "thread1 = threading.Thread(target=work,args = [1])\n",
    "thread2 = threading.Thread(target=work,args = [2])\n",
    "thread3 = threading.Thread(target=work,args = [3])\n",
    "thread4 = threading.Thread(target=work,args = [4])\n",
    "thread5 = threading.Thread(target=work,args = [5])\n",
    "thread6 = threading.Thread(target=work,args = [6])\n",
    "thread7 = threading.Thread(target=work,args = [7])\n",
    "\n",
    "thread0.start()\n",
    "thread1.start()\n",
    "thread2.start()\n",
    "thread3.start()\n",
    "thread4.start()\n",
    "thread5.start()\n",
    "thread6.start()\n",
    "thread7.start()\n",
    "\n",
    "thread0.join()\n",
    "thread1.join()\n",
    "thread2.join()\n",
    "thread3.join()\n",
    "thread4.join()\n",
    "thread5.join()\n",
    "thread6.join()\n",
    "thread7.join()"
   ]
  },
  {
   "cell_type": "code",
   "execution_count": 12,
   "metadata": {},
   "outputs": [
    {
     "name": "stdout",
     "output_type": "stream",
     "text": [
      "|████████████████████████████████████████| 1000/1000 [100%] in 0.0s (1075847.23/s)\n"
     ]
    }
   ],
   "source": [
    "from alive_progress import alive_bar\n",
    "items=range(1000)# retrieve your set of items\n",
    "with alive_bar(len(items)) as bar:# declare your expected total\n",
    "    for item in items:# iterate as usual\n",
    "        # process each item\n",
    "        bar()\n",
    "        # call after consuming one item"
   ]
  },
  {
   "cell_type": "code",
   "execution_count": 23,
   "metadata": {},
   "outputs": [
    {
     "name": "stdout",
     "output_type": "stream",
     "text": [
      "说起来，前辈现在在哪里？要是您不快点下命令的话，这样下去鹤城前辈就要发射……飞奔出去了。\n",
      "现在伊甸条约近在眼前，正是各种方面都很敏感的时期。如果让外界觉得，这是「圣三一的正义实现委员会与欣嫩谷之间的冲突」，不难想象，状况会变得十分不利。\n",
      "也就是说，如果能以补习授业部和「Schale」一起的形式解决事件就再理想不过了。老师，能拜托您吗……？\n",
      "虽然早就想到会有一天像这样一起并肩作战……看来这一天要来的稍微早一点了呢，小春。\n",
      "说起来，还是第一次在老师的指挥下战斗呢。无需顾虑，老师。请尽情使用我吧。\n",
      "呼呼呼，说的不错。虽然要拼一拼运气了，不过这不失为一种调味料呢！既然如此！\n",
      "都，都说了不要丢下我了—！呜哇—！真是的，给我记着！总有一天我绝对会报这个仇的——！！\n"
     ]
    }
   ],
   "source": [
    "subs = pysubs2.load(\"./2222/补习部2章6.ass\")\n",
    "for sub in subs:\n",
    "    if sub.style == \"文本\":\n",
    "        text = sub.text.split(\"：\")[-1]\n",
    "        if len(text) > 35:\n",
    "            \n",
    "            print(text)"
   ]
  },
  {
   "cell_type": "code",
   "execution_count": 28,
   "metadata": {},
   "outputs": [
    {
     "name": "stdout",
     "output_type": "stream",
     "text": [
      "说起来，前辈现在在哪里？要是您不快点下命令的话，这样下去鹤城前辈就要发\\N射……飞奔出去了。\n",
      "现在伊甸条约近在眼前，正是各种方面都很敏感的时期。如果让外界觉得，这是\\N「圣三一的正义实现委员会与欣嫩谷之间的冲突」，不难想象，状况会变得十分\\N不利。\n",
      "也就是说，如果能以补习授业部和「Schale」一起的形式解决事件就再理\\N想不过了。老师，能拜托您吗……？\n",
      "虽然早就想到会有一天像这样一起并肩作战……看来这一天要来的稍微早一点了\\N呢，小春。\n",
      "说起来，还是第一次在老师的指挥下战斗呢。无需顾虑，老师。请尽情使用我吧\\N。\n",
      "呼呼呼，说的不错。虽然要拼一拼运气了，不过这不失为一种调味料呢！既然如\\N此！\n",
      "都，都说了不要丢下我了—！呜哇—！真是的，给我记着！总有一天我绝对会报\\N这个仇的——！！\n"
     ]
    }
   ],
   "source": [
    "subs = pysubs2.load(\"./2222/补习部2章6.ass\")\n",
    "for sub in subs:\n",
    "    if sub.style == \"文本\":\n",
    "        text = sub.text.split(\"：\")[-1]\n",
    "        if len(text) > 35:\n",
    "            text = \"\\\\N\".join(re.findall(\".{35}\",text)) +\"\\\\N\"+ text[-(len(text)%35):]\n",
    "            print(text)"
   ]
  }
 ],
 "metadata": {
  "interpreter": {
   "hash": "c462e494c06d8cd79bc20d1c50fd9f36438a830950329162a3188cb49aca30ed"
  },
  "kernelspec": {
   "display_name": "Python 3.9.5 64-bit ('base': conda)",
   "language": "python",
   "name": "python3"
  },
  "language_info": {
   "codemirror_mode": {
    "name": "ipython",
    "version": 3
   },
   "file_extension": ".py",
   "mimetype": "text/x-python",
   "name": "python",
   "nbconvert_exporter": "python",
   "pygments_lexer": "ipython3",
   "version": "3.9.5"
  },
  "orig_nbformat": 4
 },
 "nbformat": 4,
 "nbformat_minor": 2
}
