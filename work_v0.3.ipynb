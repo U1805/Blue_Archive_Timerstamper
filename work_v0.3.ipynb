{
 "cells": [
  {
   "cell_type": "code",
   "execution_count": 3,
   "metadata": {},
   "outputs": [],
   "source": [
    "import sys,os,re\n",
    "import pysubs2\n",
    "import cv2\n",
    "import threading"
   ]
  },
  {
   "cell_type": "markdown",
   "metadata": {},
   "source": [
    "打印机效果：\n",
    "每个字间隔两帧🎞，大约 33ms\n",
    "{\\1a&HFF&\\3a&HFF&\\4a&HFF&}{\\t(33,34,\\1a&H00&\\3a&H00&\\4a&H00&)}"
   ]
  },
  {
   "cell_type": "code",
   "execution_count": 19,
   "metadata": {},
   "outputs": [
    {
     "name": "stdout",
     "output_type": "stream",
     "text": [
      "（如夏所说今天的天空很清澄，是个天气非常好的一天）\n",
      "（阳光非常暖和而不让人感到闷热，风也温和地吹拂着）\n",
      "啊，老师。这里这里——\n",
      "这么好的天气，抢位置的人肯定很多。\n"
     ]
    }
   ],
   "source": [
    "subs = pysubs2.load(\"小夏4.ass\")\n",
    "for i in range(5):\n",
    "    if subs[i].style == \"文本\":\n",
    "        text = subs[i].text.split(\"：\")[-1]\n",
    "        print(text)"
   ]
  },
  {
   "cell_type": "code",
   "execution_count": 18,
   "metadata": {},
   "outputs": [
    {
     "name": "stdout",
     "output_type": "stream",
     "text": [
      "{\\1a&HFF&\\3a&HFF&\\4a&HFF&}{\\t(33,34,\\1a&H00&\\3a&H00&\\4a&H00&)}（{\\1a&HFF&\\3a&HFF&\\4a&HFF&}{\\t(66,67,\\1a&H00&\\3a&H00&\\4a&H00&)}之{\\1a&HFF&\\3a&HFF&\\4a&HFF&}{\\t(99,100,\\1a&H00&\\3a&H00&\\4a&H00&)}后{\\1a&HFF&\\3a&HFF&\\4a&HFF&}{\\t(132,133,\\1a&H00&\\3a&H00&\\4a&H00&)}和{\\1a&HFF&\\3a&HFF&\\4a&HFF&}{\\t(165,166,\\1a&H00&\\3a&H00&\\4a&H00&)}夏{\\1a&HFF&\\3a&HFF&\\4a&HFF&}{\\t(198,199,\\1a&H00&\\3a&H00&\\4a&H00&)}一{\\1a&HFF&\\3a&HFF&\\4a&HFF&}{\\t(231,232,\\1a&H00&\\3a&H00&\\4a&H00&)}起{\\1a&HFF&\\3a&HFF&\\4a&HFF&}{\\t(264,265,\\1a&H00&\\3a&H00&\\4a&H00&)}各{\\1a&HFF&\\3a&HFF&\\4a&HFF&}{\\t(297,298,\\1a&H00&\\3a&H00&\\4a&H00&)}种{\\1a&HFF&\\3a&HFF&\\4a&HFF&}{\\t(330,331,\\1a&H00&\\3a&H00&\\4a&H00&)}享{\\1a&HFF&\\3a&HFF&\\4a&HFF&}{\\t(363,364,\\1a&H00&\\3a&H00&\\4a&H00&)}乐{\\1a&HFF&\\3a&HFF&\\4a&HFF&}{\\t(396,397,\\1a&H00&\\3a&H00&\\4a&H00&)}了{\\1a&HFF&\\3a&HFF&\\4a&HFF&}{\\t(429,430,\\1a&H00&\\3a&H00&\\4a&H00&)}之{\\1a&HFF&\\3a&HFF&\\4a&HFF&}{\\t(462,463,\\1a&H00&\\3a&H00&\\4a&H00&)}后{\\1a&HFF&\\3a&HFF&\\4a&HFF&}{\\t(495,496,\\1a&H00&\\3a&H00&\\4a&H00&)}，{\\1a&HFF&\\3a&HFF&\\4a&HFF&}{\\t(528,529,\\1a&H00&\\3a&H00&\\4a&H00&)}便{\\1a&HFF&\\3a&HFF&\\4a&HFF&}{\\t(561,562,\\1a&H00&\\3a&H00&\\4a&H00&)}回{\\1a&HFF&\\3a&HFF&\\4a&HFF&}{\\t(594,595,\\1a&H00&\\3a&H00&\\4a&H00&)}s{\\1a&HFF&\\3a&HFF&\\4a&HFF&}{\\t(627,628,\\1a&H00&\\3a&H00&\\4a&H00&)}c{\\1a&HFF&\\3a&HFF&\\4a&HFF&}{\\t(660,661,\\1a&H00&\\3a&H00&\\4a&H00&)}h{\\1a&HFF&\\3a&HFF&\\4a&HFF&}{\\t(693,694,\\1a&H00&\\3a&H00&\\4a&H00&)}a{\\1a&HFF&\\3a&HFF&\\4a&HFF&}{\\t(726,727,\\1a&H00&\\3a&H00&\\4a&H00&)}l{\\1a&HFF&\\3a&HFF&\\4a&HFF&}{\\t(759,760,\\1a&H00&\\3a&H00&\\4a&H00&)}e{\\1a&HFF&\\3a&HFF&\\4a&HFF&}{\\t(792,793,\\1a&H00&\\3a&H00&\\4a&H00&)}去{\\1a&HFF&\\3a&HFF&\\4a&HFF&}{\\t(825,826,\\1a&H00&\\3a&H00&\\4a&H00&)}了{\\1a&HFF&\\3a&HFF&\\4a&HFF&}{\\t(858,859,\\1a&H00&\\3a&H00&\\4a&H00&)}）\n",
      "{\\1a&HFF&\\3a&HFF&\\4a&HFF&}{\\t(33,34,\\1a&H00&\\3a&H00&\\4a&H00&)}（{\\1a&HFF&\\3a&HFF&\\4a&HFF&}{\\t(66,67,\\1a&H00&\\3a&H00&\\4a&H00&)}之{\\1a&HFF&\\3a&HFF&\\4a&HFF&}{\\t(99,100,\\1a&H00&\\3a&H00&\\4a&H00&)}后{\\1a&HFF&\\3a&HFF&\\4a&HFF&}{\\t(132,133,\\1a&H00&\\3a&H00&\\4a&H00&)}和{\\1a&HFF&\\3a&HFF&\\4a&HFF&}{\\t(165,166,\\1a&H00&\\3a&H00&\\4a&H00&)}夏{\\1a&HFF&\\3a&HFF&\\4a&HFF&}{\\t(198,199,\\1a&H00&\\3a&H00&\\4a&H00&)}一{\\1a&HFF&\\3a&HFF&\\4a&HFF&}{\\t(231,232,\\1a&H00&\\3a&H00&\\4a&H00&)}起{\\1a&HFF&\\3a&HFF&\\4a&HFF&}{\\t(264,265,\\1a&H00&\\3a&H00&\\4a&H00&)}各{\\1a&HFF&\\3a&HFF&\\4a&HFF&}{\\t(297,298,\\1a&H00&\\3a&H00&\\4a&H00&)}种{\\1a&HFF&\\3a&HFF&\\4a&HFF&}{\\t(330,331,\\1a&H00&\\3a&H00&\\4a&H00&)}享{\\1a&HFF&\\3a&HFF&\\4a&HFF&}{\\t(363,364,\\1a&H00&\\3a&H00&\\4a&H00&)}乐{\\1a&HFF&\\3a&HFF&\\4a&HFF&}{\\t(396,397,\\1a&H00&\\3a&H00&\\4a&H00&)}了{\\1a&HFF&\\3a&HFF&\\4a&HFF&}{\\t(429,430,\\1a&H00&\\3a&H00&\\4a&H00&)}之{\\1a&HFF&\\3a&HFF&\\4a&HFF&}{\\t(462,463,\\1a&H00&\\3a&H00&\\4a&H00&)}后{\\1a&HFF&\\3a&HFF&\\4a&HFF&}{\\t(495,496,\\1a&H00&\\3a&H00&\\4a&H00&)}，{\\1a&HFF&\\3a&HFF&\\4a&HFF&}{\\t(528,529,\\1a&H00&\\3a&H00&\\4a&H00&)}便{\\1a&HFF&\\3a&HFF&\\4a&HFF&}{\\t(561,562,\\1a&H00&\\3a&H00&\\4a&H00&)}回{\\1a&HFF&\\3a&HFF&\\4a&HFF&}{\\t(594,595,\\1a&H00&\\3a&H00&\\4a&H00&)}s{\\1a&HFF&\\3a&HFF&\\4a&HFF&}{\\t(627,628,\\1a&H00&\\3a&H00&\\4a&H00&)}c{\\1a&HFF&\\3a&HFF&\\4a&HFF&}{\\t(660,661,\\1a&H00&\\3a&H00&\\4a&H00&)}h{\\1a&HFF&\\3a&HFF&\\4a&HFF&}{\\t(693,694,\\1a&H00&\\3a&H00&\\4a&H00&)}a{\\1a&HFF&\\3a&HFF&\\4a&HFF&}{\\t(726,727,\\1a&H00&\\3a&H00&\\4a&H00&)}l{\\1a&HFF&\\3a&HFF&\\4a&HFF&}{\\t(759,760,\\1a&H00&\\3a&H00&\\4a&H00&)}e{\\1a&HFF&\\3a&HFF&\\4a&HFF&}{\\t(792,793,\\1a&H00&\\3a&H00&\\4a&H00&)}去{\\1a&HFF&\\3a&HFF&\\4a&HFF&}{\\t(825,826,\\1a&H00&\\3a&H00&\\4a&H00&)}了{\\1a&HFF&\\3a&HFF&\\4a&HFF&}{\\t(858,859,\\1a&H00&\\3a&H00&\\4a&H00&)}）\n",
      "{\\1a&HFF&\\3a&HFF&\\4a&HFF&}{\\t(33,34,\\1a&H00&\\3a&H00&\\4a&H00&)}（{\\1a&HFF&\\3a&HFF&\\4a&HFF&}{\\t(66,67,\\1a&H00&\\3a&H00&\\4a&H00&)}之{\\1a&HFF&\\3a&HFF&\\4a&HFF&}{\\t(99,100,\\1a&H00&\\3a&H00&\\4a&H00&)}后{\\1a&HFF&\\3a&HFF&\\4a&HFF&}{\\t(132,133,\\1a&H00&\\3a&H00&\\4a&H00&)}和{\\1a&HFF&\\3a&HFF&\\4a&HFF&}{\\t(165,166,\\1a&H00&\\3a&H00&\\4a&H00&)}夏{\\1a&HFF&\\3a&HFF&\\4a&HFF&}{\\t(198,199,\\1a&H00&\\3a&H00&\\4a&H00&)}一{\\1a&HFF&\\3a&HFF&\\4a&HFF&}{\\t(231,232,\\1a&H00&\\3a&H00&\\4a&H00&)}起{\\1a&HFF&\\3a&HFF&\\4a&HFF&}{\\t(264,265,\\1a&H00&\\3a&H00&\\4a&H00&)}各{\\1a&HFF&\\3a&HFF&\\4a&HFF&}{\\t(297,298,\\1a&H00&\\3a&H00&\\4a&H00&)}种{\\1a&HFF&\\3a&HFF&\\4a&HFF&}{\\t(330,331,\\1a&H00&\\3a&H00&\\4a&H00&)}享{\\1a&HFF&\\3a&HFF&\\4a&HFF&}{\\t(363,364,\\1a&H00&\\3a&H00&\\4a&H00&)}乐{\\1a&HFF&\\3a&HFF&\\4a&HFF&}{\\t(396,397,\\1a&H00&\\3a&H00&\\4a&H00&)}了{\\1a&HFF&\\3a&HFF&\\4a&HFF&}{\\t(429,430,\\1a&H00&\\3a&H00&\\4a&H00&)}之{\\1a&HFF&\\3a&HFF&\\4a&HFF&}{\\t(462,463,\\1a&H00&\\3a&H00&\\4a&H00&)}后{\\1a&HFF&\\3a&HFF&\\4a&HFF&}{\\t(495,496,\\1a&H00&\\3a&H00&\\4a&H00&)}，{\\1a&HFF&\\3a&HFF&\\4a&HFF&}{\\t(528,529,\\1a&H00&\\3a&H00&\\4a&H00&)}便{\\1a&HFF&\\3a&HFF&\\4a&HFF&}{\\t(561,562,\\1a&H00&\\3a&H00&\\4a&H00&)}回{\\1a&HFF&\\3a&HFF&\\4a&HFF&}{\\t(594,595,\\1a&H00&\\3a&H00&\\4a&H00&)}s{\\1a&HFF&\\3a&HFF&\\4a&HFF&}{\\t(627,628,\\1a&H00&\\3a&H00&\\4a&H00&)}c{\\1a&HFF&\\3a&HFF&\\4a&HFF&}{\\t(660,661,\\1a&H00&\\3a&H00&\\4a&H00&)}h{\\1a&HFF&\\3a&HFF&\\4a&HFF&}{\\t(693,694,\\1a&H00&\\3a&H00&\\4a&H00&)}a{\\1a&HFF&\\3a&HFF&\\4a&HFF&}{\\t(726,727,\\1a&H00&\\3a&H00&\\4a&H00&)}l{\\1a&HFF&\\3a&HFF&\\4a&HFF&}{\\t(759,760,\\1a&H00&\\3a&H00&\\4a&H00&)}e{\\1a&HFF&\\3a&HFF&\\4a&HFF&}{\\t(792,793,\\1a&H00&\\3a&H00&\\4a&H00&)}去{\\1a&HFF&\\3a&HFF&\\4a&HFF&}{\\t(825,826,\\1a&H00&\\3a&H00&\\4a&H00&)}了{\\1a&HFF&\\3a&HFF&\\4a&HFF&}{\\t(858,859,\\1a&H00&\\3a&H00&\\4a&H00&)}）\n",
      "{\\1a&HFF&\\3a&HFF&\\4a&HFF&}{\\t(33,34,\\1a&H00&\\3a&H00&\\4a&H00&)}（{\\1a&HFF&\\3a&HFF&\\4a&HFF&}{\\t(66,67,\\1a&H00&\\3a&H00&\\4a&H00&)}之{\\1a&HFF&\\3a&HFF&\\4a&HFF&}{\\t(99,100,\\1a&H00&\\3a&H00&\\4a&H00&)}后{\\1a&HFF&\\3a&HFF&\\4a&HFF&}{\\t(132,133,\\1a&H00&\\3a&H00&\\4a&H00&)}和{\\1a&HFF&\\3a&HFF&\\4a&HFF&}{\\t(165,166,\\1a&H00&\\3a&H00&\\4a&H00&)}夏{\\1a&HFF&\\3a&HFF&\\4a&HFF&}{\\t(198,199,\\1a&H00&\\3a&H00&\\4a&H00&)}一{\\1a&HFF&\\3a&HFF&\\4a&HFF&}{\\t(231,232,\\1a&H00&\\3a&H00&\\4a&H00&)}起{\\1a&HFF&\\3a&HFF&\\4a&HFF&}{\\t(264,265,\\1a&H00&\\3a&H00&\\4a&H00&)}各{\\1a&HFF&\\3a&HFF&\\4a&HFF&}{\\t(297,298,\\1a&H00&\\3a&H00&\\4a&H00&)}种{\\1a&HFF&\\3a&HFF&\\4a&HFF&}{\\t(330,331,\\1a&H00&\\3a&H00&\\4a&H00&)}享{\\1a&HFF&\\3a&HFF&\\4a&HFF&}{\\t(363,364,\\1a&H00&\\3a&H00&\\4a&H00&)}乐{\\1a&HFF&\\3a&HFF&\\4a&HFF&}{\\t(396,397,\\1a&H00&\\3a&H00&\\4a&H00&)}了{\\1a&HFF&\\3a&HFF&\\4a&HFF&}{\\t(429,430,\\1a&H00&\\3a&H00&\\4a&H00&)}之{\\1a&HFF&\\3a&HFF&\\4a&HFF&}{\\t(462,463,\\1a&H00&\\3a&H00&\\4a&H00&)}后{\\1a&HFF&\\3a&HFF&\\4a&HFF&}{\\t(495,496,\\1a&H00&\\3a&H00&\\4a&H00&)}，{\\1a&HFF&\\3a&HFF&\\4a&HFF&}{\\t(528,529,\\1a&H00&\\3a&H00&\\4a&H00&)}便{\\1a&HFF&\\3a&HFF&\\4a&HFF&}{\\t(561,562,\\1a&H00&\\3a&H00&\\4a&H00&)}回{\\1a&HFF&\\3a&HFF&\\4a&HFF&}{\\t(594,595,\\1a&H00&\\3a&H00&\\4a&H00&)}s{\\1a&HFF&\\3a&HFF&\\4a&HFF&}{\\t(627,628,\\1a&H00&\\3a&H00&\\4a&H00&)}c{\\1a&HFF&\\3a&HFF&\\4a&HFF&}{\\t(660,661,\\1a&H00&\\3a&H00&\\4a&H00&)}h{\\1a&HFF&\\3a&HFF&\\4a&HFF&}{\\t(693,694,\\1a&H00&\\3a&H00&\\4a&H00&)}a{\\1a&HFF&\\3a&HFF&\\4a&HFF&}{\\t(726,727,\\1a&H00&\\3a&H00&\\4a&H00&)}l{\\1a&HFF&\\3a&HFF&\\4a&HFF&}{\\t(759,760,\\1a&H00&\\3a&H00&\\4a&H00&)}e{\\1a&HFF&\\3a&HFF&\\4a&HFF&}{\\t(792,793,\\1a&H00&\\3a&H00&\\4a&H00&)}去{\\1a&HFF&\\3a&HFF&\\4a&HFF&}{\\t(825,826,\\1a&H00&\\3a&H00&\\4a&H00&)}了{\\1a&HFF&\\3a&HFF&\\4a&HFF&}{\\t(858,859,\\1a&H00&\\3a&H00&\\4a&H00&)}）\n"
     ]
    }
   ],
   "source": [
    "subs = pysubs2.load(\"小夏4.ass\")\n",
    "for i in range(5):\n",
    "    if subs[i].style == \"文本\":\n",
    "        text = sub.text.split(\"：\")[-1]\n",
    "        cnt = 1\n",
    "        s = \"\"\n",
    "        for word in text:\n",
    "            s = s+\"{\\\\1a&HFF&\\\\3a&HFF&\\\\4a&HFF&}{\\\\t(\"+str(cnt*33)+\",\"+str(cnt*33+1)+\",\\\\1a&H00&\\\\3a&H00&\\\\4a&H00&)}\"+word\n",
    "            if cnt % 35 == 0:\n",
    "                s += \"\\\\N\"\n",
    "            cnt+=1\n",
    "        print(s)"
   ]
  },
  {
   "cell_type": "code",
   "execution_count": 41,
   "metadata": {},
   "outputs": [],
   "source": [
    "def work(start):\n",
    "    video_path = os.path.join(\"./temp/\", \"part_\"+str(start)+\".mp4\")\n",
    "    cap = cv2.VideoCapture(video_path)\n",
    "    fps = cap.get(cv2.CAP_PROP_FPS)\n",
    "    fourcc = cv2.VideoWriter_fourcc(*'mp4v')\n",
    "    width = int(cap.get(3))\n",
    "    height = int(cap.get(4))\n",
    "    out = cv2.VideoWriter(\"./temp/part_\"+str(start)+\"_out.mp4\",fourcc,fps,(width,height))\n",
    "    print(\"start threading \"+str(start))\n",
    "\n",
    "    for i in range(start*num,(start+1)*num):\n",
    "        ret, img = cap.read()\n",
    "        if ret:\n",
    "            for style in frame[i]:\n",
    "                y1 ,x1 ,y2 ,x2= axis[style][0], axis[style][1], axis[style][2], axis[style][3]\n",
    "                Inpainting(img,x1,y1,x2,y2,style,kernelSize=9,iter=1,r=4)\n",
    "            out.write(img)\n",
    "        else:\n",
    "            break\n",
    "        if cv2.waitKey(1) & 0xFF==27:\n",
    "            break\n",
    "    cap.release()\n",
    "    out.release()\n",
    "    print(\"finish threading \"+str(start))"
   ]
  },
  {
   "cell_type": "code",
   "execution_count": 42,
   "metadata": {},
   "outputs": [],
   "source": [
    "num = 1000\n",
    "def Inpainting(srcImg,x,y,xx,yy,style=\"文本\",kernelSize=7,iter=1,r=3):\n",
    "    src = srcImg[x:xx,y:yy].copy()\n",
    "    gray = cv2.cvtColor(src, cv2.COLOR_BGR2GRAY,1)\n",
    "    if \"fadeout\" in style:\n",
    "        thresh = cv2.threshold(gray, 45, 255, cv2.THRESH_BINARY)[1]\n",
    "    elif style == \"学生\" or style == \"文本\": #白字\n",
    "        thresh = cv2.threshold(gray, 120, 255, cv2.THRESH_BINARY)[1]\n",
    "    else:\n",
    "        thresh = cv2.threshold(gray, 0, 255, cv2.THRESH_BINARY_INV | cv2.THRESH_OTSU)[1]\n",
    "    kernel = cv2.getStructuringElement(cv2.MORPH_RECT, (kernelSize, kernelSize))\n",
    "    maskImg = cv2.dilate(thresh, kernel,iterations=iter)\n",
    "    inpaintImg = cv2.inpaint(src,maskImg,r,cv2.INPAINT_NS)\n",
    "    srcImg[x:xx,y:yy] = inpaintImg"
   ]
  },
  {
   "cell_type": "code",
   "execution_count": 43,
   "metadata": {},
   "outputs": [
    {
     "name": "stdout",
     "output_type": "stream",
     "text": [
      "start threading 7\n",
      "finish threading 7\n"
     ]
    }
   ],
   "source": [
    "work(7)"
   ]
  }
 ],
 "metadata": {
  "interpreter": {
   "hash": "c462e494c06d8cd79bc20d1c50fd9f36438a830950329162a3188cb49aca30ed"
  },
  "kernelspec": {
   "display_name": "Python 3.9.5 64-bit ('base': conda)",
   "language": "python",
   "name": "python3"
  },
  "language_info": {
   "codemirror_mode": {
    "name": "ipython",
    "version": 3
   },
   "file_extension": ".py",
   "mimetype": "text/x-python",
   "name": "python",
   "nbconvert_exporter": "python",
   "pygments_lexer": "ipython3",
   "version": "3.9.5"
  },
  "orig_nbformat": 4
 },
 "nbformat": 4,
 "nbformat_minor": 2
}
