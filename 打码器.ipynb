{
 "cells": [
  {
   "cell_type": "code",
   "execution_count": null,
   "metadata": {},
   "outputs": [],
   "source": [
    "import sys,os,re\n",
    "import pysubs2\n",
    "import cv2\n",
    "import threading"
   ]
  },
  {
   "cell_type": "markdown",
   "metadata": {},
   "source": [
    "## 文字修补"
   ]
  },
  {
   "cell_type": "code",
   "execution_count": null,
   "metadata": {},
   "outputs": [],
   "source": [
    "def Inpainting(srcImg,x,y,xx,yy,style=\"文本\",kernelSize=7,iter=1,r=3):\n",
    "    src = srcImg[x:xx,y:yy].copy()\n",
    "    gray = cv2.cvtColor(src, cv2.COLOR_BGR2GRAY,1)\n",
    "    if \"fadeout\" in style:\n",
    "        thresh = cv2.threshold(gray, 45, 255, cv2.THRESH_BINARY)[1]\n",
    "    elif style == \"学生\" or style == \"文本\": #白字\n",
    "        thresh = cv2.threshold(gray, 120, 255, cv2.THRESH_BINARY)[1]\n",
    "    else:\n",
    "        thresh = cv2.threshold(gray, 0, 255, cv2.THRESH_BINARY_INV | cv2.THRESH_OTSU)[1]\n",
    "    kernel = cv2.getStructuringElement(cv2.MORPH_RECT, (kernelSize, kernelSize))\n",
    "    maskImg = cv2.dilate(thresh, kernel,iterations=iter)\n",
    "    inpaintImg = cv2.inpaint(src,maskImg,r,cv2.INPAINT_NS)\n",
    "    srcImg[x:xx,y:yy] = inpaintImg"
   ]
  },
  {
   "cell_type": "markdown",
   "metadata": {},
   "source": [
    "## 读取 config"
   ]
  },
  {
   "cell_type": "code",
   "execution_count": null,
   "metadata": {},
   "outputs": [
    {
     "name": "stdout",
     "output_type": "stream",
     "text": [
      "{'标题': [400, 580, 1240, 675], '羁绊标题': [535, 540, 1054, 632], '章节': [705, 505, 885, 570], '学生': [105, 900, 570, 966], '文本': [114, 988, 1500, 1154], '单选': [435, 495, 1200, 550], '选项1': [604, 435, 1029, 501], '选项2': [595, 560, 1029, 615]}\n"
     ]
    }
   ],
   "source": [
    "axis = {}\n",
    "with open(\"config.txt\", \"r\",encoding='utf-8') as f:\n",
    "    for line in f.readlines():\n",
    "        line = line.strip('\\n')\n",
    "        line = line.split(':')\n",
    "        style = line[0]\n",
    "        axis[style] = list(map(int,list(line[1].split(','))))\n",
    "\n",
    "print(axis)"
   ]
  },
  {
   "cell_type": "code",
   "execution_count": null,
   "metadata": {},
   "outputs": [],
   "source": [
    "#测试\n",
    "for i in range(length):\n",
    "    ret, img = cap.read() # 进度\n",
    "    print(i/length*100)\n",
    "    if ret:\n",
    "        for style in frame[i]:\n",
    "            y1 = axis[style][0]\n",
    "            x1 = axis[style][1]\n",
    "            x2 = axis[style][3]\n",
    "            y2 = axis[style][2]\n",
    "            Inpainting(img,x1,y1,x2,y2,style)\n",
    "        out.write(img)\n",
    "        #img = cv2.resize(img, (0, 0),fx = 0.5,fy = 0.5)\n",
    "        #cv2.imshow('img',img)\n",
    "    else:\n",
    "        print(\"Error\")\n",
    "        break\n",
    "    if cv2.waitKey(2) & 0xFF==27:\n",
    "        break\n",
    "cap.release()\n",
    "out.release()\n",
    "cv2.destroyAllWindows()"
   ]
  },
  {
   "cell_type": "markdown",
   "metadata": {},
   "source": [
    "## 时轴预处理\n",
    "\n",
    "拆分「人物（社团）：文本」\n",
    "\n",
    "文本换行"
   ]
  },
  {
   "cell_type": "code",
   "execution_count": null,
   "metadata": {},
   "outputs": [],
   "source": [
    "filename = \"小夏4\"\n",
    "path = sys.path[0]+\"\\\\temp\\\\\"\n",
    "cap = cv2.VideoCapture(\"小夏4.mp4\")\n",
    "length = int(cap.get(cv2.CAP_PROP_FRAME_COUNT))\n",
    "fps = cap.get(cv2.CAP_PROP_FPS)\n",
    "fourcc = cv2.VideoWriter_fourcc(*'mp4v')\n",
    "width = int(cap.get(3))\n",
    "height = int(cap.get(4))\n",
    "frame = []\n",
    "for i in range(length):\n",
    "    frame.append([])\n",
    "if not os.path.exists(path):\n",
    "    os.makedirs(path)\n",
    "\n",
    "#filename_out.ass\n",
    "subs = pysubs2.load(filename+\".ass\")\n",
    "for sub in subs:\n",
    "    start = pysubs2.time.ms_to_frames(sub.start, fps)\n",
    "    end = pysubs2.time.ms_to_frames(sub.end, fps)\n",
    "\n",
    "    if sub.style == \"文本\":\n",
    "        name_school = sub.text.split(\"：\")[0]\n",
    "        text = sub.text.split(\"：\")[-1]\n",
    "\n",
    "        if name_school != text:\n",
    "            name = name_school.split('（')[0]\n",
    "            school = name_school.split('（')[-1].replace(\"）\",\"\")\n",
    "            subs.insert(0, pysubs2.SSAEvent(start=sub.start, end=sub.end, text=name+\" {\\\\fs35 \\c&H f4ca80 }\"+school, style=\"学生\"))\n",
    "\n",
    "        if len(text) > 35: # 换行\n",
    "            text = \"\\\\N\".join(re.findall(\".{35}\",text)) \n",
    "        sub.text = text\n",
    "\n",
    "        for i in range(start,end):\n",
    "            frame[i].append(\"学生\")\n",
    "            frame[i].append(\"文本\")\n",
    "\n",
    "    else:\n",
    "        for i in range(start,end):\n",
    "            frame[i].append(sub.style)\n",
    "subs.save(path + filename + \"_out.ass\")"
   ]
  },
  {
   "cell_type": "markdown",
   "metadata": {},
   "source": [
    "## 多线程处理"
   ]
  },
  {
   "cell_type": "code",
   "execution_count": null,
   "metadata": {},
   "outputs": [],
   "source": [
    "# 多线程-任务\n",
    "def work(start):\n",
    "    video_path = os.path.join(\"./temp/\", \"part_\"+str(start)+\".mp4\")\n",
    "    cap = cv2.VideoCapture(video_path)\n",
    "    fps = cap.get(cv2.CAP_PROP_FPS)\n",
    "    fourcc = cv2.VideoWriter_fourcc(*'mp4v')\n",
    "    width = int(cap.get(3))\n",
    "    height = int(cap.get(4))\n",
    "    out = cv2.VideoWriter(\"./temp/part_\"+str(start)+\"_out.mp4\",fourcc,fps,(width,height))\n",
    "    print(\"start \"+str(start))\n",
    "\n",
    "    for i in range(start*num,(start+1)*num):\n",
    "        ret, img = cap.read()\n",
    "        if ret:\n",
    "            for style in frame[i]:\n",
    "                y1 ,x1 ,y2 ,x2= axis[style][0], axis[style][1], axis[style][2], axis[style][3]\n",
    "                Inpainting(img,x1,y1,x2,y2,style,kernelSize=9,iter=1,r=4)\n",
    "            out.write(img)\n",
    "            # img = cv2.resize(img, (0, 0),fx = 0.5,fy = 0.5)\n",
    "            # cv2.imshow('img',img)\n",
    "        else:\n",
    "            break\n",
    "        if cv2.waitKey(1) & 0xFF==27:\n",
    "            break\n",
    "    cap.release()\n",
    "    out.release()\n",
    "    # cv2.destroyAllWindows()"
   ]
  },
  {
   "cell_type": "code",
   "execution_count": null,
   "metadata": {},
   "outputs": [],
   "source": [
    "# 多线程-切分\n",
    "num = 1000\n",
    "i = -1\n",
    "\n",
    "with open(path + \"list.txt\",\"a\") as f:\n",
    "    while 1:\n",
    "        i += 1\n",
    "        ret, img = cap.read()\n",
    "        if ret:\n",
    "            if i % num == 0:\n",
    "                out = cv2.VideoWriter(path + \"part_\" + str(int(i/num)) + \".mp4\",fourcc,fps,(width,height))\n",
    "                f.write(f\"file ./temp/part_{id}_out.mp4\\n\".format(id=int(i/num)))\n",
    "            out.write(img)\n",
    "            # img = cv2.resize(img, (0, 0),fx = 0.5,fy = 0.5)\n",
    "            # cv2.imshow('img',img)\n",
    "            #print(i)\n",
    "        else:\n",
    "            break\n",
    "        if cv2.waitKey(1) & 0xFF==27:\n",
    "            break\n",
    "    cap.release()\n",
    "    out.release()\n",
    "    # cv2.destroyAllWindows()"
   ]
  },
  {
   "cell_type": "code",
   "execution_count": null,
   "metadata": {},
   "outputs": [],
   "source": [
    "thread_list = []\n",
    "\n",
    "for i in range(0,8):\n",
    "\n",
    "    thread = threading.Thread(target=work, args=[i])\n",
    "    thread.start()\n",
    "    thread_list.append(thread)\n",
    "\n",
    "for t in thread_list:\n",
    "\n",
    "    t.join()"
   ]
  },
  {
   "cell_type": "markdown",
   "metadata": {},
   "source": [
    "## 导出"
   ]
  },
  {
   "cell_type": "code",
   "execution_count": null,
   "metadata": {},
   "outputs": [],
   "source": [
    "os.system(\"ffmpeg -f concat -safe 0 -i {path}list.txt -c copy {path}concat.mp4\".format(path=path))\n",
    "os.system(\"ffmpeg -i {path}concat.mp4 -i {filename}.mp4  -c copy -map 0 -map 1:1 -y -shortest {path}{filename}_out.mp4\".format(path=path,filename=\"小夏4\"))\n",
    "os.system(\"ffmpeg -i {path}{filename}_out.mp4 -vf subtitles=temp/{filename}_out.ass {filename}_final.mp4\".format(path=path,filename=\"小夏4\"))\n",
    "#os.system(\"rd/s/q \"+path)\n",
    "\n",
    "# 音频\n",
    "os.system(\"ffmpeg -i {filename}_temp.mp4 -i {filename}.mp4  -c copy -map 0 -map 1:1 -y -shortest {filename}_out.mp4\".format(filename=\"小夏4\"))\n",
    "os.system(\"del {filename}_temp.mp4\".format(filename=\"小夏4\"))\n",
    "\n",
    "# 字幕https://zhuanlan.zhihu.com/p/161000532\n",
    "os.system(\"ffmpeg -i {path}{filename}_out.mp4 -vf subtitles=temp/{filename}_out.ass {filename}_final.mp4\".format(path=path,filename=\"小夏4\"))\n",
    "os.system(\"del {filename}_out.mp4\".format(filename=\"小夏4\"))\n",
    "os.system(\"del {filename}_out.ass\".format(filename=\"小夏4\"))"
   ]
  },
  {
   "cell_type": "markdown",
   "metadata": {},
   "source": [
    "## 打印机效果\n",
    "\n",
    "每个字间隔两帧🎞，大约 33ms\n",
    "{\\1a&HFF&\\3a&HFF&\\4a&HFF&}{\\t(33,34,\\1a&H00&\\3a&H00&\\4a&H00&)}"
   ]
  },
  {
   "cell_type": "code",
   "execution_count": null,
   "metadata": {},
   "outputs": [],
   "source": [
    "subs = pysubs2.load(\"小夏4.ass\")\n",
    "\n",
    "for i in range(5):\n",
    "    if subs[i].style == \"文本\":\n",
    "        text = subs[i].text.split(\"：\")[-1]\n",
    "        print(text)\n",
    "\n",
    "for i in range(5):\n",
    "    if subs[i].style == \"文本\":\n",
    "        text = sub.text.split(\"：\")[-1]\n",
    "        cnt = 1\n",
    "        s = \"\"\n",
    "        for word in text:\n",
    "            s = s+\"{\\\\1a&HFF&\\\\3a&HFF&\\\\4a&HFF&}{\\\\t(\"+str(cnt*33)+\",\"+str(cnt*33+1)+\",\\\\1a&H00&\\\\3a&H00&\\\\4a&H00&)}\"+word\n",
    "            if cnt % 35 == 0:\n",
    "                s += \"\\\\N\"\n",
    "            cnt+=1\n",
    "        print(s)"
   ]
  }
 ],
 "metadata": {
  "kernelspec": {
   "display_name": "Python 3.9.12 ('base')",
   "language": "python",
   "name": "python3"
  },
  "language_info": {
   "codemirror_mode": {
    "name": "ipython",
    "version": 3
   },
   "file_extension": ".py",
   "mimetype": "text/x-python",
   "name": "python",
   "nbconvert_exporter": "python",
   "pygments_lexer": "ipython3",
   "version": "3.9.12"
  },
  "orig_nbformat": 4,
  "vscode": {
   "interpreter": {
    "hash": "239471704e061a9ddba3c579493bfbe48f9b8485ed9d6ec1c08870e498dbd4bb"
   }
  }
 },
 "nbformat": 4,
 "nbformat_minor": 2
}
